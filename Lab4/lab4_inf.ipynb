{
 "cells": [
  {
   "cell_type": "code",
   "execution_count": 1,
   "metadata": {},
   "outputs": [],
   "source": [
    "import os\n",
    "import base64\n",
    "from fuzzywuzzy import fuzz\n",
    "from itertools import combinations\n",
    "import xml.etree.ElementTree as ET\n",
    "import random"
   ]
  },
  {
   "cell_type": "code",
   "execution_count": 2,
   "metadata": {},
   "outputs": [],
   "source": [
    "# функция для чтения файлов из директории\n",
    "def export_files(directory):\n",
    "    files = []\n",
    "    for filename in os.listdir(directory):\n",
    "        if filename.endswith(\".xml\"):\n",
    "            tree = ET.parse(os.path.join(directory, filename))\n",
    "            root = tree.getroot()\n",
    "            name = filename\n",
    "            for elem in root.iter():\n",
    "                if elem.text:\n",
    "                    text = (elem.text.strip() if elem.attrib.get('encoding') != 'base64' else base64.b64decode(elem.text).decode('cp1251'))\n",
    "                    if len(text) and elem.tag == '{http://www.romip.ru/data/common}subject':\n",
    "                        name = text\n",
    "                    if len(text) and elem.tag == '{http://www.romip.ru/data/common}content':\n",
    "                        files.append((name, text))\n",
    "    return files"
   ]
  },
  {
   "cell_type": "code",
   "execution_count": 3,
   "metadata": {},
   "outputs": [],
   "source": [
    "# создание шинглов \n",
    "def create_shingles(text, shingle_len):\n",
    "    return {text[i:i+shingle_len] for i in range(len(text) - shingle_len + 1)}"
   ]
  },
  {
   "cell_type": "code",
   "execution_count": 4,
   "metadata": {},
   "outputs": [],
   "source": [
    "# функция для поиска нечетких дубликатов в коллекции текстов\n",
    "def find_fuzzy_duplicates(text, threshold, shingle_len):\n",
    "    duplicates = []\n",
    "    for pair in combinations(text, 2):\n",
    "        text1 = pair[0][1]\n",
    "        text2 = pair[1][1]\n",
    "        # берем 2 набора шинглов\n",
    "        shingles1 = create_shingles(text1, shingle_len)\n",
    "        shingles2 = create_shingles(text2, shingle_len)\n",
    "        #вычисляем коэф схожести двух шинглов\n",
    "        intersection = len(shingles1.intersection(shingles2))\n",
    "        union = len(shingles1.union(shingles2))\n",
    "        sim = intersection / union\n",
    "        #Если отношение схожести токенов также превышает пороговое значение, \n",
    "        #то пара документов считается нечетким дубликатом и добавляется \n",
    "        #в список duplicates\n",
    "        if sim >= threshold:\n",
    "            ratio = fuzz.token_sort_ratio(text1, text2)\n",
    "            duplicates.append((pair[0][0], pair[1][0], sim, ratio))\n",
    "    return duplicates"
   ]
  },
  {
   "cell_type": "code",
   "execution_count": 5,
   "metadata": {},
   "outputs": [],
   "source": [
    "directory = \"/eos/user/a/aegorych/labs\"\n",
    "files = export_files(directory)\n",
    "shingle_len = 4\n",
    "threshold = 0.3\n",
    "text = files[0:500]\n",
    "duplicates = find_fuzzy_duplicates(text, threshold, shingle_len)"
   ]
  },
  {
   "cell_type": "code",
   "execution_count": 6,
   "metadata": {},
   "outputs": [
    {
     "name": "stdout",
     "output_type": "stream",
     "text": [
      "Длина шингла: 4\n",
      "Процент дубликатов: 0.04 %\n",
      "Кластеры нечетких дубликатов:\n",
      "Кластер 1: В Грозном задержаны два участника незаконных вооруженных формирований - В Грозном задержаны двое участников бандформирований\n",
      "сходство двух дубликатов: 0.37\n",
      "сравнение с fuzzywuzzy: 67%\n",
      "Кластер 2: В Москве прогремел взрыв - В результате взрыва в Москве погибли 5 человек\n",
      "сходство двух дубликатов: 0.37\n",
      "сравнение с fuzzywuzzy: 69%\n",
      "Кластер 3: Нижегородцы на выборах в Госдуму предпочли правых либеральным демократам - Нижегородский губернатор не уйдет в Госдуму\n",
      "сходство двух дубликатов: 0.31\n",
      "сравнение с fuzzywuzzy: 64%\n",
      "Кластер 4: Из горящего здания в Апраксином дворе эвакуируют людей - Пожар в Апраксином дворе в Петербурге локализован\n",
      "сходство двух дубликатов: 0.31\n",
      "сравнение с fuzzywuzzy: 60%\n",
      "Кластер 5: В новогодние праздники могут быть вдвое снижены тарифы на услуги связи - Междугородные телефонные переговоры и телеграфные услуги на время праздников подешевеют\n",
      "сходство двух дубликатов: 0.34\n",
      "сравнение с fuzzywuzzy: 62%\n"
     ]
    }
   ],
   "source": [
    "print(\"Длина шингла:\", shingle_len)\n",
    "print(f\"Процент дубликатов: {len(duplicates)/len(files)*100:.2f} %\")\n",
    "print(\"Кластеры нечетких дубликатов:\")\n",
    "for i, dup in enumerate(duplicates):\n",
    "    print(f\"Кластер {i+1}: {dup[0]} - {dup[1]}\")\n",
    "    print(f\"сходство двух дубликатов: {dup[2]:.2f}\")\n",
    "    print(f\"сравнение с fuzzywuzzy: {dup[3]}%\")"
   ]
  },
  {
   "cell_type": "code",
   "execution_count": 7,
   "metadata": {},
   "outputs": [
    {
     "data": {
      "image/png": "[encoded data removed]",
      "text/plain": [
       "<Figure size 432x288 with 1 Axes>"
      ]
     },
     "metadata": {
      "needs_background": "light"
     },
     "output_type": "display_data"
    }
   ],
   "source": [
    "import seaborn as sns\n",
    "import matplotlib.pyplot as plt\n",
    "import pandas as pd\n",
    "cluster_data = []\n",
    "for i, dup in enumerate(duplicates):\n",
    "    cluster_data.append((i+1, dup[2], dup[3]))\n",
    "\n",
    "df = pd.DataFrame(cluster_data, columns=['Кластер', 'Сходство', 'Сравнение'])\n",
    "sns.scatterplot(data=df, x='Сходство', y='Сравнение', hue='Кластер')\n",
    "plt.show()"
   ]
  },
  {
   "cell_type": "code",
   "execution_count": null,
   "metadata": {},
   "outputs": [],
   "source": []
  }
 ],
 "metadata": {
  "kernelspec": {
   "display_name": "Python 3",
   "language": "python",
   "name": "python3"
  },
  "language_info": {
   "codemirror_mode": {
    "name": "ipython",
    "version": 3
   },
   "file_extension": ".py",
   "mimetype": "text/x-python",
   "name": "python",
   "nbconvert_exporter": "python",
   "pygments_lexer": "ipython3",
   "version": "3.9.12"
  }
 },
 "nbformat": 4,
 "nbformat_minor": 1
}
