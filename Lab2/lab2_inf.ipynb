{
 "cells": [
  {
   "cell_type": "code",
   "execution_count": 1,
   "id": "df32a316",
   "metadata": {},
   "outputs": [],
   "source": [
    "#импортируем необходимые функции из библиотеки natasha\n",
    "from natasha import (\n",
    "    Segmenter,\n",
    "    MorphVocab,\n",
    "    NewsEmbedding,\n",
    "    NewsMorphTagger,\n",
    "    NewsSyntaxParser,\n",
    "    NewsNERTagger,\n",
    "    PER,\n",
    "    NamesExtractor,\n",
    "    DatesExtractor,\n",
    "    AddrExtractor,\n",
    "    Doc\n",
    ")\n",
    "\n",
    "from yargy import Parser, rule, or_, and_\n",
    "from yargy.predicates import gram, dictionary, gte, lte, type, eq\n",
    "from yargy.pipelines import morph_pipeline\n",
    "from yargy.interpretation import fact\n",
    "from IPython.display import display"
   ]
  },
  {
   "cell_type": "code",
   "execution_count": 2,
   "id": "ace4637c",
   "metadata": {},
   "outputs": [],
   "source": [
    "#считываем текст из файла\n",
    "file = open('olymp.txt')\n",
    "text = file.read().splitlines()"
   ]
  },
  {
   "cell_type": "code",
   "execution_count": 3,
   "id": "12b5f57d",
   "metadata": {},
   "outputs": [],
   "source": [
    "#определяем необходимые функции для работы с текстом\n",
    "segmenter = Segmenter()\n",
    "morph_vocab = MorphVocab()\n",
    "\n",
    "emb = NewsEmbedding()\n",
    "morph_tagger = NewsMorphTagger(emb) # морфологический разбор слова\n",
    "syntax_parser = NewsSyntaxParser(emb) # анализ синтаксиса \n",
    "ner_tagger = NewsNERTagger(emb) #извлечение именованных сущностей\n",
    "\n",
    "names_extractor = NamesExtractor(morph_vocab)\n",
    "names_extractor('\\n'.join(text))\n",
    "dates_extractor = DatesExtractor(morph_vocab)\n",
    "addr_extractor = AddrExtractor(morph_vocab)"
   ]
  },
  {
   "cell_type": "code",
   "execution_count": 4,
   "id": "4d356ff8",
   "metadata": {},
   "outputs": [
    {
     "data": {
      "text/plain": [
       "['Олимпи́йские игры  — крупнейшие международные комплексные спортивные соревнования, которые проводят раз в 4 года под эгидой Международного олимпийского комитета (МОК). Медаль, завоёванная на Олимпийских играх, считается одним из наивысших достижений в спорте. Традиция проведения Олимпийских игр, существовавшая в Древней Греции, зародилась как часть религиозного культа. Античные Олимпийские игры проводились в Олимпии, считавшейся у греков священным местом. От Олимпии произошло и название игр. В период с 776 года до н. э. по 393 год н. э. было проведено 292 Олимпиады. Проведение 293-й Олимпиады было отменено императором Римской империи Феодосием, а Олимпийские игры были запрещены как языческие. Современные Олимпийские игры были возрождены в конце XIX века французским общественным деятелем Пьером Кубертеном. Олимпийские игры, известные также как летние Олимпийские игры, проводили каждые 4 года, начиная с 1896 года, за исключением лет, пришедшихся на мировые войны. В 1924 году были учреждены зимние Олимпийские игры, которые первоначально проводили в тот же год, что и летние. Однако, начиная с 1994 года, время проведения зимних Олимпийских игр сдвинуто на два года относительно времени проведения летних игр. Спустя несколько дней после проведения Олимпийских игр на тех же спортивных сооружениях принимают Паралимпийские игры для людей с ограниченными возможностями. Олимпийские игры Древней Греции представляли собой религиозный и спортивный праздник, проводившийся в Олимпии. Сведения о происхождении игр утеряны, но сохранилось несколько мифов, описывающих это событие (по преданию игры были учреждены богом Гераклом). Из истории к нам дошло множество документов, строений и скульптур того периода. Первое документально подтверждённое празднование относят к 776 году до н. э. На время проведения Игр объявляли священное перемирие, в это время нельзя было вести войну, хотя данное правило неоднократно нарушали. Олимпийские игры существенно потеряли своё значение с приходом римлян. После второй половины III века популярность игр начала снижаться, в 394 году при императоре Феодосии I были проведены последние задокументированные игры, однако фактически они всё равно продолжались до эпохи правления императора Византии Феодосия II, когда в результате сильного пожара сгорел храм бога Зевса в Олимпии в 426 году. Олимпийская идея и после прекращения античных состязаний не исчезла насовсем. Например, в Англии в течение XVII века неоднократно проводили «олимпийские» соревнования и состязания. Позже похожие соревнования организовывали во Франции (см. Олимпиада Республики) и Греции. Тем не менее, это были небольшие мероприятия, носившие, в лучшем случае, региональный характер. Первыми настоящими предшественниками современных Олимпийских игр являются «Олимпии», которые проводили регулярно в период 1859—1888 годов. Идея возрождения Олимпийских игр в Греции принадлежала поэту Панайотису Суцосу, воплотил её в жизнь общественный деятель Евангелис Заппас. В 1866 году, в результате археологических раскопок в Олимпии, были обнаружены спортивные и храмовые сооружения. 12 октября 1875 года археологические исследования и раскопки продолжили под немецким руководством. В то время в Европе были в моде романтическо-идеалистические представления об античности. Желание возродить олимпийское мышление и культуру распространили довольно быстро по всей Европе. Французский барон Пьер Кубертен (фр. Pierre de Coubertin), осмысливая впоследствии вклад Франции, сказал: «Германия раскопала то, что осталось от древней Олимпии. Почему Франция не может восстановить старое величие?». По мнению Кубертена, именно слабое физическое состояние французских солдат стало одной из причин поражения французов во франко-прусской войне 1870—1871 годов. Он стремился изменить положение с помощью улучшения физической культуры французов. Одновременно с этим, он хотел преодолеть национальный эгоизм и внести вклад в борьбу за мир и международное взаимопонимание. «Молодёжь мира» должна была мериться силами в спортивных состязаниях, а не на полях битв. Возрождение Олимпийских игр казалось в его глазах лучшим решением, чтобы достичь обеих целей. На конгрессе, проведённом 16 июня 1894 года в Сорбонне (Парижский университет), он представил свои мысли и идеи международной публике. В последний день конгресса было принято решение о том, что первые Олимпийские игры современности должны состояться 25 августа 1896 году в Афинах, стране Греции. Чтобы организовать проведение Игр, был основан Международный олимпийский комитет (МОК). Первым президентом Комитета стал грек Деметриус Викелас, который был президентом до окончания I Олимпийских игр 1896 года. Генеральным секретарём стал барон Пьер Кубертен. Первые Игры современности прошли с большим успехом. Несмотря на то, что участие в Играх принял всего 241 атлет (14 стран), Игры стали крупнейшим спортивным событием, прошедшим когда-либо со времён Древней Греции. В заплыве на 100 м приняли участие военные моряки греческой армии. Греческие официальные лица были так довольны, что выдвинули предложение о «вечном» проведении Игр Олимпиады на их родине, в Греции. Но МОК ввёл ротацию между разными государствами, чтобы каждые четыре года Игры меняли место проведения. После первого успеха олимпийское движение испытало и первый кризис. II Олимпийские игры 1900 года в Париже (Франция) и III Олимпийские игры, начавшиеся 9 сентября 1904 года в Сент-Луисе (штат Миссури, США) были совмещены со Всемирными выставками. Спортивные соревнования тянулись месяцами и почти не пользовались интересом у зрителей. На Олимпиаде-1900 в Париже впервые участвовали женщины и команда Российской империи. На Олимпиаде-1904 в Сент-Луисе участвовали почти исключительно американские спортсмены, так как из Европы добраться через океан в те годы было очень сложно по техническим причинам. На внеочередных Олимпийских играх 1906 года в Афинах (Греция) вновь вышли на первое место спортивные соревнования и достижения. Хотя МОК первоначально признавал и поддерживал проведение этих «промежуточных Игр» (всего через два года после предыдущих), сейчас эти Игры не признаются олимпийскими. Некоторые спортивные историки считают Игры 1906 спасением олимпийской идеи, так как они не дали играм стать «бессмысленными и ненужными». Всего 23 страны получали право проведения Олимпиад. При этом летние проводились в 19 странах, зимние — в 12. Среди городов лидерство по количеству Олимпиад держит Лондон — три раза. Дважды Игры проходили в Лос-Анджелесе, Париже, Афинах, Токио — летние, в Санкт-Морице, Инсбруке, Лейк-Плэсиде — зимние. В Пекине проведены как летние, так и зимние Олимпийские игры. Всего Олимпиаду принимали 43 города (летние — 23, зимние — 21). В СССР прошли одни Олимпийские игры — XXII Летняя Олимпиада в Москве в 1980 году, после неудачной заявки на летние Игры 1976 года. В постсоветской России Москва безуспешно претендовала на летнюю олимпиаду 2012, а Сочи получил право на проведение XXII Зимней Олимпиады-2014. Всего в социалистических странах Олимпиады проходили четыре раза: СССР — летние (1980), Югославия — зимние (1984), Китайская Народная Республика — летние (2008) и зимние (2022). Россия']"
      ]
     },
     "execution_count": 4,
     "metadata": {},
     "output_type": "execute_result"
    }
   ],
   "source": [
    "text"
   ]
  },
  {
   "cell_type": "code",
   "execution_count": 14,
   "id": "3a805961",
   "metadata": {},
   "outputs": [],
   "source": [
    "from yargy import Parser, rule, or_, and_\n",
    "from yargy.predicates import gram, dictionary, gte, lte, type, eq\n",
    "from yargy.pipelines import morph_pipeline\n",
    "from yargy.interpretation import fact\n",
    "from IPython.display import display\n",
    "\n",
    "\n",
    "\n",
    "ParsStruct = fact(\n",
    "    'Person',\n",
    "    ['position', 'name']\n",
    ")\n",
    "Name = fact(\n",
    "    'Name',\n",
    "    ['first', 'last']\n",
    ")\n",
    "\n",
    "\n",
    "POST = morph_pipeline([\n",
    "    'деятель',\n",
    "    'барон',\n",
    "    'поэт',\n",
    "    'бог'\n",
    "])\n",
    "\n",
    "NAME = or_(\n",
    "    rule(gram('Name').interpretation(Name.first.inflected()),\n",
    "    gram('Surn').interpretation(Name.last.inflected())\n",
    "    ).interpretation(Name),\n",
    "    rule(gram('Name').repeatable().interpretation(Name.last.inflected())\n",
    "    ).interpretation(Name))\n",
    "\n",
    "ParsStruct = rule(\n",
    "    POST.interpretation(ParsStruct.position.normalized()),\n",
    "    NAME.interpretation(ParsStruct.name)\n",
    "    ).interpretation(ParsStruct)\n",
    "\n",
    "parser = Parser(ParsStruct)"
   ]
  },
  {
   "cell_type": "code",
   "execution_count": 15,
   "id": "e8ed544e",
   "metadata": {},
   "outputs": [
    {
     "name": "stdout",
     "output_type": "stream",
     "text": [
      "Person(position='деятель', name=Name(first='пьер', last='кубертен'))\n",
      "Person(position='бог', name=Name(first=None, last='геракл'))\n",
      "Person(position='бог', name=Name(first=None, last='зевс'))\n",
      "Person(position='поэт', name=Name(first=None, last='панайотиса'))\n",
      "Person(position='деятель', name=Name(first=None, last='евангелиса'))\n",
      "Person(position='барон', name=Name(first='пьер', last='кубертен'))\n",
      "Person(position='барон', name=Name(first='пьер', last='кубертен'))\n"
     ]
    }
   ],
   "source": [
    "matches = []\n",
    "for tx in text:\n",
    "    for match in parser.findall(tx):\n",
    "        print(match.fact)"
   ]
  },
  {
   "cell_type": "code",
   "execution_count": 16,
   "id": "01997dce",
   "metadata": {},
   "outputs": [],
   "source": [
    "Date = fact(\n",
    "    'Date',\n",
    "    ['year', 'month', 'day']\n",
    ")\n",
    "\n",
    "MONTHS = {\n",
    "    'январь',\n",
    "    'февраль',\n",
    "    'март',\n",
    "    'апрель',\n",
    "    'мая',\n",
    "    'июнь',\n",
    "    'июль',\n",
    "    'август',\n",
    "    'сентябрь',\n",
    "    'октябрь',\n",
    "    'ноябрь',\n",
    "    'декабрь'\n",
    "}\n",
    "\n",
    "MONTH_NAME = dictionary(MONTHS)\n",
    "DAY = and_(\n",
    "    gte(1),\n",
    "    lte(31)\n",
    ")\n",
    "YEAR = and_(\n",
    "    gte(1700),\n",
    "    lte(2022)\n",
    ")\n",
    "DATE = rule(\n",
    "    DAY.interpretation(Date.day),\n",
    "    MONTH_NAME.interpretation(Date.month.normalized()),\n",
    "    YEAR.interpretation(Date.year).optional()\n",
    "    ).interpretation(Date)\n",
    "\n",
    "parser = Parser(DATE)"
   ]
  },
  {
   "cell_type": "code",
   "execution_count": 20,
   "id": "48315ce6",
   "metadata": {},
   "outputs": [
    {
     "name": "stdout",
     "output_type": "stream",
     "text": [
      "Place(country='Греции', city=None)\n",
      "Place(country='Греции', city=None)\n",
      "Place(country='Франции', city=None)\n",
      "Place(country='Греции', city=None)\n",
      "Place(country='Греции', city=None)\n",
      "Place(country='Франции', city=None)\n",
      "Place(country='Германия', city=None)\n",
      "Place(country='Франция', city=None)\n",
      "Place(country=None, city='Афинах')\n",
      "Place(country='Греции', city=None)\n",
      "Place(country='Греции', city=None)\n",
      "Place(country='Греции', city=None)\n",
      "Place(country=None, city='Париже')\n",
      "Place(country='Франция', city=None)\n",
      "Place(country='США', city=None)\n",
      "Place(country=None, city='Париже')\n",
      "Place(country=None, city='Афинах')\n",
      "Place(country='Греция', city=None)\n",
      "Place(country=None, city='Париже')\n",
      "Place(country=None, city='Афинах')\n",
      "Place(country='СССР', city=None)\n",
      "Place(country=None, city='Москве')\n",
      "Place(country='России', city=None)\n",
      "Place(country=None, city='Москва')\n",
      "Place(country='СССР', city=None)\n",
      "Place(country='Югославия', city=None)\n",
      "Place(country='Россия', city=None)\n"
     ]
    }
   ],
   "source": [
    "matches = []\n",
    "\n",
    "for tx in text:\n",
    "    for match in parser.findall(tx):\n",
    "        print(match.fact)"
   ]
  },
  {
   "cell_type": "code",
   "execution_count": 18,
   "id": "cb774590",
   "metadata": {},
   "outputs": [],
   "source": [
    "Place = fact(\n",
    "    'Place',\n",
    "    ['country', 'city']\n",
    ")\n",
    "\n",
    "COUNTRY = {\n",
    "    'Россия',\n",
    "    'Германия',\n",
    "    'Греция',\n",
    "    'СССР',\n",
    "    'Китай',\n",
    "    'Югославия',\n",
    "    'США',\n",
    "    'Франция'\n",
    "    \n",
    "}\n",
    "COUNTRY_NAME = dictionary(COUNTRY)\n",
    "\n",
    "CITY = {\n",
    "    'Москва',\n",
    "    'Берлин',\n",
    "    'Париж',\n",
    "    'Сент-Луис',\n",
    "    'Афины'\n",
    "}\n",
    "CITY_NAME = dictionary(CITY)\n",
    "\n",
    "PLACE = or_(\n",
    "    rule(\n",
    "      COUNTRY_NAME.interpretation(Place.country)\n",
    "    ),\n",
    "    rule(\n",
    "      CITY_NAME.interpretation(Place.city)\n",
    "    ),\n",
    "    ).interpretation(Place)\n",
    "\n",
    "parser = Parser(PLACE)"
   ]
  },
  {
   "cell_type": "code",
   "execution_count": 19,
   "id": "0de3083d",
   "metadata": {},
   "outputs": [
    {
     "name": "stdout",
     "output_type": "stream",
     "text": [
      "Place(country='Греции', city=None)\n",
      "Place(country='Греции', city=None)\n",
      "Place(country='Франции', city=None)\n",
      "Place(country='Греции', city=None)\n",
      "Place(country='Греции', city=None)\n",
      "Place(country='Франции', city=None)\n",
      "Place(country='Германия', city=None)\n",
      "Place(country='Франция', city=None)\n",
      "Place(country=None, city='Афинах')\n",
      "Place(country='Греции', city=None)\n",
      "Place(country='Греции', city=None)\n",
      "Place(country='Греции', city=None)\n",
      "Place(country=None, city='Париже')\n",
      "Place(country='Франция', city=None)\n",
      "Place(country='США', city=None)\n",
      "Place(country=None, city='Париже')\n",
      "Place(country=None, city='Афинах')\n",
      "Place(country='Греция', city=None)\n",
      "Place(country=None, city='Париже')\n",
      "Place(country=None, city='Афинах')\n",
      "Place(country='СССР', city=None)\n",
      "Place(country=None, city='Москве')\n",
      "Place(country='России', city=None)\n",
      "Place(country=None, city='Москва')\n",
      "Place(country='СССР', city=None)\n",
      "Place(country='Югославия', city=None)\n",
      "Place(country='Россия', city=None)\n"
     ]
    }
   ],
   "source": [
    "matches = []\n",
    "\n",
    "for tx in text:\n",
    "    for match in parser.findall(tx):\n",
    "        print(match.fact)"
   ]
  },
  {
   "cell_type": "code",
   "execution_count": null,
   "id": "9d56fe50",
   "metadata": {},
   "outputs": [],
   "source": []
  }
 ],
 "metadata": {
  "kernelspec": {
   "display_name": "Python 3",
   "language": "python",
   "name": "python3"
  },
  "language_info": {
   "codemirror_mode": {
    "name": "ipython",
    "version": 3
   },
   "file_extension": ".py",
   "mimetype": "text/x-python",
   "name": "python",
   "nbconvert_exporter": "python",
   "pygments_lexer": "ipython3",
   "version": "3.9.12"
  }
 },
 "nbformat": 4,
 "nbformat_minor": 5
}
